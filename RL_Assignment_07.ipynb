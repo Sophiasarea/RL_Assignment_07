{
  "cells": [
    {
      "cell_type": "markdown",
      "metadata": {
        "id": "view-in-github",
        "colab_type": "text"
      },
      "source": [
        "<a href=\"https://colab.research.google.com/github/Sophiasarea/RL_Assignment_07/blob/main/RL_Assignment_07.ipynb\" target=\"_parent\"><img src=\"https://colab.research.google.com/assets/colab-badge.svg\" alt=\"Open In Colab\"/></a>"
      ]
    },
    {
      "cell_type": "markdown",
      "metadata": {
        "id": "42lCQv_4Ztdu"
      },
      "source": [
        "## Robot Learning\n",
        "\n",
        "## Assignment 7\n",
        "\n",
        "Solutions are due on 03.06.2025 before the lecture."
      ]
    },
    {
      "cell_type": "markdown",
      "metadata": {
        "id": "h82ySECHbyST"
      },
      "source": [
        "### Introduction\n",
        "\n",
        "On this assignment sheet, we will use an environment from [OpenAi Gym](https://github.com/openai/gym). The setup requires some further packages. Since this installation is not trivial, and we could only test it in our setup, we strongly recommend that you execute the cells in this notebook in [Google Colab](https://research.google.com/colaboratory/). You should find a button which opens this file directly in Colab at the top of this notebook. If not, you can simply import the .ipynb manually.\n",
        "\n",
        "If you have started your Colab session and are ready to proceed, uncomment the three lines in the code cell below. They will install everything required to simulate the Gym environment. If prompted to restart your runtime, do so, but you don't have to repeat the installation unless you delete your runtime.\n",
        "\n",
        "**Warning: This is unlikely to work on your own computer, and might even mess up your system! Please only use the following lines in Colab. If you insist on using your own machine, please refer to installation instructions for Gym, torch and the box2d environments for your system.**"
      ]
    },
    {
      "cell_type": "code",
      "execution_count": 1,
      "metadata": {
        "id": "ILxohiv0bxN5",
        "outputId": "9babf6be-2ca8-4126-f5f0-994995a5ac7d",
        "colab": {
          "base_uri": "https://localhost:8080/"
        }
      },
      "outputs": [
        {
          "output_type": "stream",
          "name": "stdout",
          "text": [
            "Requirement already satisfied: numpy==1.23.5 in /usr/local/lib/python3.11/dist-packages (1.23.5)\n",
            "Requirement already satisfied: matplotlib==3.7.0 in /usr/local/lib/python3.11/dist-packages (3.7.0)\n",
            "Requirement already satisfied: contourpy>=1.0.1 in /usr/local/lib/python3.11/dist-packages (from matplotlib==3.7.0) (1.3.2)\n",
            "Requirement already satisfied: cycler>=0.10 in /usr/local/lib/python3.11/dist-packages (from matplotlib==3.7.0) (0.12.1)\n",
            "Requirement already satisfied: fonttools>=4.22.0 in /usr/local/lib/python3.11/dist-packages (from matplotlib==3.7.0) (4.58.0)\n",
            "Requirement already satisfied: kiwisolver>=1.0.1 in /usr/local/lib/python3.11/dist-packages (from matplotlib==3.7.0) (1.4.8)\n",
            "Requirement already satisfied: packaging>=20.0 in /usr/local/lib/python3.11/dist-packages (from matplotlib==3.7.0) (24.2)\n",
            "Requirement already satisfied: pillow>=6.2.0 in /usr/local/lib/python3.11/dist-packages (from matplotlib==3.7.0) (11.2.1)\n",
            "Requirement already satisfied: pyparsing>=2.3.1 in /usr/local/lib/python3.11/dist-packages (from matplotlib==3.7.0) (3.2.3)\n",
            "Requirement already satisfied: python-dateutil>=2.7 in /usr/local/lib/python3.11/dist-packages (from matplotlib==3.7.0) (2.9.0.post0)\n",
            "Requirement already satisfied: six>=1.5 in /usr/local/lib/python3.11/dist-packages (from python-dateutil>=2.7->matplotlib==3.7.0) (1.17.0)\n"
          ]
        }
      ],
      "source": [
        "!apt-get -qq install xvfb x11-utils &> /dev/null\n",
        "!pip install ufal.pybox2d --quiet &> /dev/null\n",
        "!pip install pyvirtualdisplay moviepy pyglet PyOpenGL-accelerate --quiet &> /dev/null\n",
        "!pip install numpy==1.23.5 matplotlib==3.7.0"
      ]
    },
    {
      "cell_type": "markdown",
      "metadata": {
        "id": "-Et0INA7elG1"
      },
      "source": [
        "The following cell imports packages required for the task."
      ]
    },
    {
      "cell_type": "code",
      "execution_count": 2,
      "metadata": {
        "id": "BCzDT-u_CqE1",
        "outputId": "8b99e48e-8808-4408-d88f-bbea21f1deaf",
        "colab": {
          "base_uri": "https://localhost:8080/"
        }
      },
      "outputs": [
        {
          "output_type": "stream",
          "name": "stderr",
          "text": [
            "/usr/local/lib/python3.11/dist-packages/moviepy/config_defaults.py:1: DeprecationWarning: invalid escape sequence '\\P'\n",
            "  \"\"\"\n",
            "/usr/local/lib/python3.11/dist-packages/moviepy/video/io/ffmpeg_reader.py:294: DeprecationWarning: invalid escape sequence '\\d'\n",
            "  lines_video = [l for l in lines if ' Video: ' in l and re.search('\\d+x\\d+', l)]\n",
            "WARNING:py.warnings:/usr/local/lib/python3.11/dist-packages/moviepy/video/fx/painting.py:7: DeprecationWarning: Please import `sobel` from the `scipy.ndimage` namespace; the `scipy.ndimage.filters` namespace is deprecated and will be removed in SciPy 2.0.0.\n",
            "  from scipy.ndimage.filters import sobel\n",
            "\n",
            "WARNING:py.warnings:/usr/local/lib/python3.11/dist-packages/moviepy/video/io/sliders.py:61: SyntaxWarning: \"is\" with a literal. Did you mean \"==\"?\n",
            "  if event.key is 'enter':\n",
            "\n"
          ]
        }
      ],
      "source": [
        "import numpy as np\n",
        "import gym\n",
        "import matplotlib.pyplot as plt\n",
        "from pyvirtualdisplay import Display\n",
        "from moviepy.editor import VideoClip\n",
        "from moviepy.video.io.bindings import mplfig_to_npimage\n",
        "import torch\n",
        "import torch.nn as nn\n",
        "from tqdm import tqdm\n",
        "import random\n",
        "import warnings\n",
        "warnings.filterwarnings(\"ignore\", category=DeprecationWarning)"
      ]
    },
    {
      "cell_type": "markdown",
      "metadata": {
        "id": "_-NDX630e0j0"
      },
      "source": [
        "## Task 7.1)\n",
        "\n",
        "Your agent is in state $s_t$ and has the $Q$-values $Q(s_t,a) = [Q(s_t,a_0), Q(s_t,a_1), Q(s_t,a_2), Q(s_t,a_3)] = [5, 7, 3, 9]$. If the agent samples its action according to a probabilistic policy $\\pi(s_t,a)$ which is created by softmax action selection from $Q(s_t,a)$, then what is the probability $Pr(a_3 | s_t)$ of taking action $a_3$ in state $s_t$?\n",
        "\n",
        "<div style=\"text-align: right; font-weight:bold\"> 3 Points </div>"
      ]
    },
    {
      "cell_type": "markdown",
      "metadata": {
        "id": "WqWwhf3Aiw6m"
      },
      "source": [
        "Soft Max:\\\n",
        "$\n",
        "π(s_t, a_i) = \\frac{e^{Q(s_t, a_i)}}{∑_je^{Q(s_t, a_j)}}\n",
        "$\\\n",
        "Thus, \\\n",
        "$\n",
        "π(s_t, a_3) = \\frac{e^9}{e^5+e^7+e^3+e^9} ≈ 0.8651\n",
        "$\\\n",
        "The probability $Pr(a_3|s_t)$ of taking action $a_3$ in state $s_t$ is\\\n",
        "$\n",
        "Pr(a_3|s_t) = 86.51\\%\n",
        "$"
      ]
    },
    {
      "cell_type": "markdown",
      "metadata": {
        "id": "-ZKGw1p5oPGl"
      },
      "source": [
        "## Task 7.2)\n",
        "\n",
        "In this task, we will combine an actor-critic method like on the previous sheet with a policy gradient algorithm to control an agent in a challenging environment: the Lunar Lander."
      ]
    },
    {
      "cell_type": "code",
      "execution_count": 3,
      "metadata": {
        "colab": {
          "base_uri": "https://localhost:8080/"
        },
        "id": "_eQglYE9xZQG",
        "outputId": "18f8e4ba-7179-4664-8062-a3aa704de059"
      },
      "outputs": [
        {
          "output_type": "execute_result",
          "data": {
            "text/plain": [
              "<pyvirtualdisplay.display.Display at 0x7cdee710a990>"
            ]
          },
          "metadata": {},
          "execution_count": 3
        }
      ],
      "source": [
        "# set up showing animations from the environment in Colab.\n",
        "Display(visible=False).start()"
      ]
    },
    {
      "cell_type": "markdown",
      "metadata": {
        "id": "UcylDxhAo3vh"
      },
      "source": [
        "Examine the code cell below. It has two distinct purposes:\n",
        "\n",
        "* Showcase the agent-environment interaction for LunarLander-v2\n",
        "\n",
        "* Show how you can capture frames from this environment to animate an episode afterwards.\n",
        "\n",
        "Note that for training an agent in this environment, it is advisable to omit all code corresponding to the rendering. You can seperately render an episode of your agent's play afterwards.\n"
      ]
    },
    {
      "cell_type": "code",
      "execution_count": 4,
      "metadata": {
        "colab": {
          "base_uri": "https://localhost:8080/"
        },
        "id": "lBjPAxrqb1GO",
        "outputId": "d7fe3665-a4b0-4dbd-c189-5c4a3dcdd23e"
      },
      "outputs": [
        {
          "output_type": "stream",
          "name": "stdout",
          "text": [
            "Number of frames: 111\n"
          ]
        }
      ],
      "source": [
        "# Name of the environment, if you are having problems you can switch to 'CartPole-v1', which is easier to solve.\n",
        "ENV_NAME = 'LunarLander-v2' #'CartPole-v1'\n",
        "# Dimension of the LunarLander state space. For 'CartPole-v1', use 4 instead\n",
        "ENV_STATE_DIM =  8 # 4\n",
        "# Lunar Lander has 4 discrete actions: [Do Nothing, Fire Left Booster, Fire Main Engine, Fire Right Booster], 'CartPole-v1' has 2\n",
        "ENV_ACTION_DIM = 4 # 2\n",
        "# If the agent reaches this score the task is seen as solved\n",
        "SCORE_TO_SOLVE = 200 # 195\n",
        "MAX_STEPS = None # 500\n",
        "# Create the environment\n",
        "env = gym.make(ENV_NAME)\n",
        "# Reset the environment\n",
        "state = env.reset() # state = [x, y, dx, dy, theta, dtheta, leg1_contact, leg2_contact]\n",
        "# Track whether the episode is over\n",
        "done = False\n",
        "# List to append the frames produced by the environment renderer\n",
        "frames = []\n",
        "while not done:\n",
        "  # Render current situation and append to frames\n",
        "  frames.append(env.render('rgb_array'))\n",
        "  # Select a random action\n",
        "  action = env.action_space.sample()\n",
        "  # Execute this action\n",
        "  state, reward, done, info = env.step(action)\n",
        "# Print the number of frames\n",
        "print('Number of frames:', len(frames))\n",
        "# Prevent the renderer from showing artifacts\n",
        "plt.close()"
      ]
    },
    {
      "cell_type": "code",
      "execution_count": 5,
      "metadata": {
        "id": "DoKAmR3onpP1"
      },
      "outputs": [],
      "source": [
        "# Helper function to animate a list of frames as produced above\n",
        "def visualize_trajectory(frames, fps=50):\n",
        "  duration = int(len(frames) // fps + 1)\n",
        "  fig, ax = plt.subplots()\n",
        "  def make_frame(t, ind_max=len(frames)):\n",
        "      ax.clear()\n",
        "      ax.imshow(frames[min((int(fps*t),ind_max-1))])\n",
        "      return mplfig_to_npimage(fig)\n",
        "  plt.close()\n",
        "  return VideoClip(make_frame, duration=duration)"
      ]
    },
    {
      "cell_type": "code",
      "execution_count": 6,
      "metadata": {
        "colab": {
          "base_uri": "https://localhost:8080/",
          "height": 594
        },
        "id": "ISZEEpkZp04s",
        "outputId": "3f5357f8-1230-4cc5-fc21-1b398863f7e5"
      },
      "outputs": [
        {
          "output_type": "stream",
          "name": "stdout",
          "text": [
            "Moviepy - Building video __temp__.mp4.\n",
            "Moviepy - Writing video __temp__.mp4\n",
            "\n"
          ]
        },
        {
          "output_type": "stream",
          "name": "stderr",
          "text": [
            "                                                              "
          ]
        },
        {
          "output_type": "stream",
          "name": "stdout",
          "text": [
            "Moviepy - Done !\n",
            "Moviepy - video ready __temp__.mp4\n"
          ]
        },
        {
          "output_type": "stream",
          "name": "stderr",
          "text": [
            "\r"
          ]
        },
        {
          "output_type": "execute_result",
          "data": {
            "text/plain": [
              "<moviepy.video.io.html_tools.HTML2 object>"
            ],
            "text/html": [
              "<div align=middle><video loop='True' autoplay='True'src='data:video/mp4;base64,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' controls>Sorry, seems like your browser doesn't support HTML5 audio/video</video></div>"
            ]
          },
          "metadata": {},
          "execution_count": 6
        }
      ],
      "source": [
        "# Get the animation from the frames of the played episode\n",
        "animation = visualize_trajectory(frames)\n",
        "# Show the animation\n",
        "animation.ipython_display(fps=50, loop=True, autoplay=True)"
      ]
    },
    {
      "cell_type": "markdown",
      "metadata": {
        "id": "kP6tJzJvrK2b"
      },
      "source": [
        "Probably, the random agent will destroy itself instead of landing between the two flags. We would like you to improve upon this. Below, you are given a neural net with learnable weights $\\theta$ which takes an environment state $s_t$ as input and can output either a state value $V_{\\theta}(s_t)$ or a probability distribution over the actions $\\pi_{\\theta}(s_t,a)$."
      ]
    },
    {
      "cell_type": "code",
      "execution_count": 7,
      "metadata": {
        "colab": {
          "base_uri": "https://localhost:8080/"
        },
        "id": "ipdbrnfet58W",
        "outputId": "34601ba2-3943-457a-a25e-7453fd697c6b"
      },
      "outputs": [
        {
          "output_type": "stream",
          "name": "stdout",
          "text": [
            "Dummy Input: [0.49 0.63 0.39 0.44 0.39 0.77 0.28 0.78]\n",
            "Actor output: tensor([0.1753, 0.2419, 0.2979, 0.2849], grad_fn=<SqueezeBackward0>)\n",
            "Critic output: tensor(0.0553, grad_fn=<SqueezeBackward0>)\n"
          ]
        }
      ],
      "source": [
        "# If you feel like it, you can, but you do not need to adapt this\n",
        "class DualNet(nn.Module):\n",
        "    def __init__(self, state_dim=ENV_STATE_DIM, action_dim=ENV_ACTION_DIM, hidden_layer_dim=42):\n",
        "        super(DualNet, self).__init__()\n",
        "        # Create some layers to encode the input state\n",
        "        self.layers = [nn.Linear(state_dim, hidden_layer_dim),\n",
        "                       nn.LeakyReLU()]\n",
        "        # Combine these layers into a net\n",
        "        self.net = nn.Sequential(*self.layers)\n",
        "        # Critic output layers to estimate V from the state encoding\n",
        "        self.critic = nn.Sequential(*[nn.Linear(hidden_layer_dim,1)])\n",
        "        # Actor output layers to estimate pi from the state encoding\n",
        "        self.actor = nn.Sequential(*[nn.Linear(hidden_layer_dim,action_dim),\n",
        "                                        nn.Softmax(dim=-1)])\n",
        "    def forward(self, s, mode):\n",
        "        # Convert input state to tensor\n",
        "        device = next(self.net.parameters()).device\n",
        "        x = torch.tensor(s).float().view(1,-1).to(device)\n",
        "        # Encode state\n",
        "        x = self.net(x)\n",
        "        if mode == 'actor':\n",
        "          # Return probability distribution over actions\n",
        "          x = self.actor(x)\n",
        "        else:\n",
        "          # Return estimate of state value\n",
        "          x = self.critic(x)\n",
        "        return x.squeeze()\n",
        "\n",
        "# Example usage:\n",
        "# Create instance of the DualNet class\n",
        "test_net = DualNet()\n",
        "# Create a dummy state, round just for pretty printing\n",
        "test_input = np.around(np.random.rand(ENV_STATE_DIM),2)\n",
        "# Get the actor output\n",
        "actor_out = test_net(test_input, mode='actor')\n",
        "# Get the critic output\n",
        "critic_out = test_net(test_input, mode='critic')\n",
        "print('Dummy Input:', test_input)\n",
        "print('Actor output:', actor_out)\n",
        "print('Critic output:', critic_out)"
      ]
    },
    {
      "cell_type": "markdown",
      "metadata": {
        "id": "Xbg1wpQStXHL"
      },
      "source": [
        "Now to the task: Play episodes according to the following scheme:\n",
        "\n",
        "* For each visited state $s_t$, store the output of the critic $V_\\theta(s_t)$ in a list.\n",
        "\n",
        "* Select an action $a_t$ by sampling from the distribution $\\pi_{\\theta}(s_t,a)$ output by the actor. In a list, store the log prob of the action: $l_t = log(\\pi_{\\theta}[s_t,a_t])$.\n",
        "\n",
        "* Execute the action and observe the reward $r_{t+1}$ provided by the environment.\n",
        "\n",
        "After each episode, use the stored rewards to calculate the Returns $R_t$ following each state $s_t$ using the discount factor $\\gamma$. Next, calculate for each $t$\n",
        "\n",
        "$$\\delta_t = R_t - V_{\\theta}(s_t)$$\n",
        "\n",
        "Then, calculate the loss of the critic as\n",
        "\n",
        "$$L_{critic} = 0.5 \\sum_t \\delta_t^2$$\n",
        "\n",
        "and the loss of the actor using the log probs as\n",
        "\n",
        "$$L_{actor} = \\sum_t - l_t  \\delta_t$$\n",
        "\n",
        "and finally the total loss\n",
        "\n",
        "$$L = L_{critic} + L_{actor}$$\n",
        "\n",
        "Now, update the parameters $\\theta$ using\n",
        "\n",
        "$$\\theta \\leftarrow \\theta + \\alpha \\nabla_{\\theta}L$$\n",
        "\n",
        "The Lunar Lander problem is considered solved when the agent achieves an average return of 200 over 100 episodes. Solve the problem, or play around 3000 episodes as described above and then report the average return of the final 100 episodes played. This means that you are welcome to preemptively stop training if the average return is sufficient. Then, play one more episode and animate it like in the example above. Use $\\gamma = 0.99$ in your experiments. Save your final animation and place it into your sciebo folder along with this notebook. We recommend starting with a learning rate of $\\alpha = 0.02$, but please note that this parameter might be sensitive to the specifics of your implementation. Solving the environment should not take longer than an hour, but we have seen implementations that completed the task in as little as 10 minutes.\n",
        "\n",
        "### Hints:\n",
        "\n",
        "Following tips might help you complete this task:\n",
        "\n",
        "* You might need to convert your return $R_t$ to the correct datatype:\n",
        "\n",
        "$$\\delta_t = torch.tensor(R_t) - V_{\\theta}(s_t)$$\n",
        "\n",
        "* If you want to use numpy to sample from $\\pi_{\\theta}(s_t,a)$, you can get a numpy array by calling\n",
        "\n",
        "$$\\pi_{\\theta}(s_t,a).detach().numpy()$$\n",
        "\n",
        "* When you calculate the log probs $l_t$, preserve the torch gradient graph by using the torch function\n",
        "\n",
        "$$l_t = torch.log(\\pi_{\\theta}[s_t,a_t])$$\n",
        "\n",
        "* When you calculate $L_{actor}$, use $\\delta_t.item()$ to ensure that the actor's loss does not directly influence the critic's gradients.\n",
        "\n",
        "* It might be easier to solve the task for the Cart-Pole environment first, just change ENV_NAME, ENV_STATE_DIM and ENV_ACTION_DIM in one of the previous code blocks.\n",
        "\n",
        "* Standardizing the Returns (zero mean and std 1) before calculating $\\delta_t$ can boost performance.\n",
        "\n",
        "* Below you are already given a rough structure for the algorithm. If you stick to it, torch will compute and apply $\\nabla_{\\theta}L$ for you!\n",
        "\n",
        "<div style=\"text-align: right; font-weight:bold\"> 10 +  3 (animation) Points </div>"
      ]
    },
    {
      "cell_type": "code",
      "execution_count": null,
      "metadata": {
        "id": "IOXy4HukVgGf"
      },
      "outputs": [],
      "source": [
        "# Complete this code or write your own!\n",
        "# Create the environment\n",
        "env = gym.make(ENV_NAME)\n",
        "# Get the combined actor and critic model\n",
        "net = DualNet()\n",
        "# if using a gpu runtime DualNet().cuda() moves the policy to GPU\n",
        "# in this case, use .cpu() on a tensor before converting to numpy\n",
        "# Number of episodes to play, maybe use fewer at first\n",
        "num_iter = 3000\n",
        "# Learning rate for the parameter updates\n",
        "alpha = 2e-2\n",
        "# Discount factor\n",
        "gamma = 0.99\n",
        "# The optimizer will do the gradient updates for you\n",
        "# It needs the trainable parameters and a learning rate\n",
        "optimizer = torch.optim.RMSprop(net.parameters(), lr=alpha)\n",
        "# feel free to experiment with other torch optimizers\n",
        "\n",
        "\n",
        "# This progress_bar is useful to know how far along the training is\n",
        "progress_bar = tqdm(range(num_iter), total=num_iter, position=0, leave=True)\n",
        "# For each episode (episode can be used like an int)\n",
        "for episode in progress_bar:\n",
        "    # Reset the accumulated gradients of the model parameters\n",
        "    optimizer.zero_grad()\n",
        "    # Reset the environment and observe the starting state\n",
        "    s = env.reset()\n",
        "    done = 0\n",
        "    # Collect the following terms during the episode\n",
        "    rewards = []\n",
        "    state_vals = []\n",
        "    log_probs = []\n",
        "    while not done:\n",
        "        # During each Episode:\n",
        "        # Evaluate the critic for s, store it\n",
        "        state_val = net(s, mode='critic')\n",
        "        state_vals.append(state_val)\n",
        "\n",
        "        # Evaluate the actor for s\n",
        "        state_action_probs = net(s, mode='actor')\n",
        "\n",
        "        # Sample a from the distribution given by the actor\n",
        "        a = np.random.choice(ENV_ACTION_DIM, p=state_action_probs.detach().numpy())\n",
        "\n",
        "        # Store log_prob of a\n",
        "        log_prob = torch.log(state_action_probs[a])\n",
        "        log_probs.append(log_prob)\n",
        "\n",
        "        # Execute action a, observe next state, reward and done\n",
        "        s, r, done, _ = env.step(a)\n",
        "        # Store the reward\n",
        "        rewards.append(r)\n",
        "\n",
        "\n",
        "    # After each episode is done\n",
        "    # Calculate the Returns from the episode. Use rewards and gamma\n",
        "    returns = []\n",
        "\n",
        "\n",
        "    # You might want to standardize the Returns\n",
        "    returns =\n",
        "\n",
        "    # Calculate delta_t, L_actor, L_critic\n",
        "    # Lcritic=0.5∑tδ2t\n",
        "    # Lactor=∑t−ltδt\n",
        "\n",
        "    delta_t =\n",
        "    L_actor =\n",
        "    L_critic =\n",
        "\n",
        "    # Calculate the loss L\n",
        "    L = L_critic + L_actor\n",
        "    # Set the gradients with respect to the parameters\n",
        "    L.backward()\n",
        "    # Update the parameters based on the gradients\n",
        "    optimizer.step()\n",
        "    # If you want your progress bar to print info, you can use the following template\n",
        "    # How often to update info\n",
        "    if episode % 10 == 0:\n",
        "        # When to first update info\n",
        "        if episode > 99:\n",
        "            # List of strings containing info\n",
        "            episode_summary = [f\"{episode+1}:\"] + ['List of',  'further strings you might want in your progress bar']\n",
        "            # Set progress bar\n",
        "            progress_bar.set_description(\"\".join(episode_summary))"
      ]
    },
    {
      "cell_type": "code",
      "execution_count": null,
      "metadata": {
        "id": "4rDXENdEA5OW"
      },
      "outputs": [],
      "source": [
        " # Your code for showing the results can go here"
      ]
    },
    {
      "cell_type": "markdown",
      "metadata": {
        "id": "Ut6ld60kHdRt"
      },
      "source": [
        "## Task 7.3)\n",
        "\n",
        "In the previous task, you calculate the loss of the policy network as\n",
        "\n",
        "$$L_{actor} = \\sum_t - log(\\pi_{\\theta}[s_t,a_t])  \\delta_t$$\n",
        "\n",
        "with\n",
        "\n",
        "$$\\delta_t = R_t - V_{\\theta}(s_t).$$\n",
        "\n",
        "Give an intuitive explanation why minimizing this term leads to actions with a good outcome being more likely and actions with a bad outcome becoming less likely.\n",
        "\n",
        "<div style=\"text-align: right; font-weight:bold\"> 4 Points </div>"
      ]
    },
    {
      "cell_type": "markdown",
      "metadata": {
        "id": "4nrV6-_OSQgx"
      },
      "source": [
        "Please answer in this text cell."
      ]
    }
  ],
  "metadata": {
    "colab": {
      "provenance": [],
      "gpuType": "T4",
      "include_colab_link": true
    },
    "kernelspec": {
      "display_name": "Python 3",
      "name": "python3"
    },
    "language_info": {
      "codemirror_mode": {
        "name": "ipython",
        "version": 3
      },
      "file_extension": ".py",
      "mimetype": "text/x-python",
      "name": "python",
      "nbconvert_exporter": "python",
      "pygments_lexer": "ipython3",
      "version": "3.9.16"
    },
    "accelerator": "GPU"
  },
  "nbformat": 4,
  "nbformat_minor": 0
}